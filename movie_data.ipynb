{
 "cells": [
  {
   "cell_type": "code",
   "execution_count": 1,
   "id": "1a57f052",
   "metadata": {},
   "outputs": [],
   "source": [
    "import pandas as pd\n",
    "\n",
    "#import datasets\n",
    "ratings = pd.read_csv('imdb_movies.csv')\n",
    "top_movies = pd.read_csv('ThrowbackDataThursday Week 11 - Film Genre Stats.csv')\n",
    "\n",
    "# merge the two datasets based on the 'names' and 'top movies' columns\n",
    "movie_df = pd.merge(ratings, top_movies, left_on='names', right_on='Top Movie')"
   ]
  },
  {
   "cell_type": "code",
   "execution_count": 2,
   "id": "5ab25f47",
   "metadata": {
    "scrolled": true
   },
   "outputs": [
    {
     "name": "stdout",
     "output_type": "stream",
     "text": [
      "Unique values in 'Top Movie' column: ['The Passion of the Christ' 'Avatar' 'Scream'\n",
      " 'Harry Potter and the Half-Blood Prince' 'The Avengers' 'Tangled'\n",
      " 'Shrek 2' 'Toy Story' 'Titanic' 'The Hunger Games: Mockingjay - Part 1'\n",
      " 'The Conjuring' 'The Godfather' 'Twilight' 'The Hangover' 'Inception'\n",
      " 'Frozen' 'Finding Nemo' 'Captain America: Civil War' 'Grown Ups'\n",
      " 'Hidden Figures' 'The Twilight Saga: Eclipse'\n",
      " 'The Hunger Games: Catching Fire' 'The Hunger Games: Mockingjay - Part 2'\n",
      " 'The Dark Knight' 'Iron Man 3' 'Toy Story 3' 'Iron Man'\n",
      " 'The Hobbit: An Unexpected Journey' 'The Hangover Part II' 'Scream 2'\n",
      " 'American Sniper' 'Beauty and the Beast' 'Black Panther' 'Spider-Man'\n",
      " 'The Matrix' 'Jurassic World' 'Incredibles 2' 'A Quiet Place'\n",
      " 'The Proposal' 'Scream 3' 'The Twilight Saga: New Moon' 'Spider-Man 3'\n",
      " 'Bruce Almighty' 'Saving Private Ryan' 'It' 'Annabelle' 'Taken'\n",
      " 'Maze Runner: The Death Cure' 'The Hunger Games' 'Rush Hour'\n",
      " 'How the Grinch Stole Christmas' 'Rush Hour 2' 'American Pie 2'\n",
      " 'Wonder Woman' 'Baby Driver' 'Django Unchained' 'Sex and the City'\n",
      " 'Se7en' 'Men in Black' 'Armageddon' 'Guardians of the Galaxy'\n",
      " 'The Magnificent Seven' 'Finding Dory' 'Ghostbusters' 'Independence Day'\n",
      " 'Grease' 'Paranormal Activity' 'The Fault in Our Stars' \"Ocean's Eleven\"\n",
      " 'Kick-Ass' 'The Da Vinci Code' 'Focus' 'I, Robot' 'Anastasia'\n",
      " 'War of the Worlds' 'The Grudge' 'Freddy vs. Jason' 'Saw II' 'Saw III'\n",
      " 'Super 8' 'The Departed' 'The Matrix Reloaded' '22 Jump Street'\n",
      " 'The Sixth Sense' 'The Lego Movie' 'The Bourne Supremacy' 'The Heat'\n",
      " 'Goosebumps' 'Saw V' 'Paranormal Activity 3' 'The Ring' 'Cast Away'\n",
      " 'The Lone Ranger' 'Everest' 'The Blair Witch Project' 'The Accountant'\n",
      " 'The Great Gatsby' 'A Beautiful Mind' 'Moana' '21 Jump Street'\n",
      " 'Mamma Mia!' 'The Bourne Ultimatum' 'The Hateful Eight' 'Snatch'\n",
      " '50 First Dates' 'A Time to Kill' 'Dark Shadows' 'Warm Bodies'\n",
      " 'Transformers: Revenge of the Fallen' 'Batman Forever' 'Pitch Perfect 2'\n",
      " 'Liar Liar' 'Sully' 'The Nice Guys' 'American Hustle' 'Gravity'\n",
      " 'Austin Powers: The Spy Who Shagged Me' \"There's Something About Mary\"\n",
      " 'American Gangster' 'Wild Hogs' 'Footloose' 'The Dark Tower'\n",
      " 'Crazy Rich Asians' 'Twister' 'Hitch' 'Paranormal Activity 2'\n",
      " 'Ace Ventura: When Nature Calls' 'Mary Poppins Returns'\n",
      " 'Austin Powers in Goldmember' 'Million Dollar Baby' 'Meet the Parents'\n",
      " 'Hairspray' 'Flightplan' 'Girls Trip' 'How to Lose a Guy in 10 Days'\n",
      " 'What Women Want' 'Paranormal Activity 4' 'Knocked Up' 'Shanghai Noon'\n",
      " 'Tales from the Crypt: Demon Knight' 'Hidalgo' 'Krampus'\n",
      " 'Three Billboards Outside Ebbing, Missouri' 'Meet the Fockers' 'Signs'\n",
      " 'The Royal Tenenbaums' 'Apollo 13' 'Wedding Crashers' 'Transformers'\n",
      " 'Talladega Nights: The Ballad of Ricky Bobby' 'The Break-Up'\n",
      " 'The Perfect Storm' 'Transformers: Dark of the Moon' 'The Waterboy'\n",
      " 'Hostiles' 'The Phantom of the Opera' 'Chicago' 'Jerry Maguire'\n",
      " 'Eagle Eye' 'The Quick and the Dead' \"Valentine's Day\"\n",
      " \"The General's Daughter\" 'Burn After Reading' '3:10 to Yuma'\n",
      " 'Being John Malkovich' 'Runaway Bride' 'Dreamgirls' 'Into the Woods'\n",
      " '50/50' 'Think Like a Man Too' 'Executive Decision'\n",
      " 'Katy Perry: Part of Me' 'The Nutty Professor' 'True Grit'\n",
      " 'What Lies Beneath' 'The Recruit' 'Bad Santa' 'Open Range'\n",
      " 'While You Were Sleeping' 'Fahrenheit 9/11' 'Night School'\n",
      " 'My Big Fat Greek Wedding' 'The Homesman' 'Fame' 'Born in China'\n",
      " 'The Men Who Stare at Goats' 'Eight Crazy Nights' 'To Die For']\n",
      "Unique values in 'names' column: ['The Passion of the Christ' 'Avatar' 'Scream'\n",
      " 'Harry Potter and the Half-Blood Prince' 'The Avengers' 'Tangled'\n",
      " 'Shrek 2' 'Toy Story' 'Titanic' 'The Hunger Games: Mockingjay - Part 1'\n",
      " 'The Conjuring' 'The Godfather' 'Twilight' 'The Hangover' 'Inception'\n",
      " 'Frozen' 'Finding Nemo' 'Captain America: Civil War' 'Grown Ups'\n",
      " 'Hidden Figures' 'The Twilight Saga: Eclipse'\n",
      " 'The Hunger Games: Catching Fire' 'The Hunger Games: Mockingjay - Part 2'\n",
      " 'The Dark Knight' 'Iron Man 3' 'Toy Story 3' 'Iron Man'\n",
      " 'The Hobbit: An Unexpected Journey' 'The Hangover Part II' 'Scream 2'\n",
      " 'American Sniper' 'Beauty and the Beast' 'Black Panther' 'Spider-Man'\n",
      " 'The Matrix' 'Jurassic World' 'Incredibles 2' 'A Quiet Place'\n",
      " 'The Proposal' 'Scream 3' 'The Twilight Saga: New Moon' 'Spider-Man 3'\n",
      " 'Bruce Almighty' 'Saving Private Ryan' 'It' 'Annabelle' 'Taken'\n",
      " 'Maze Runner: The Death Cure' 'The Hunger Games' 'Rush Hour'\n",
      " 'How the Grinch Stole Christmas' 'Rush Hour 2' 'American Pie 2'\n",
      " 'Wonder Woman' 'Baby Driver' 'Django Unchained' 'Sex and the City'\n",
      " 'Se7en' 'Men in Black' 'Armageddon' 'Guardians of the Galaxy'\n",
      " 'The Magnificent Seven' 'Finding Dory' 'Ghostbusters' 'Independence Day'\n",
      " 'Grease' 'Paranormal Activity' 'The Fault in Our Stars' \"Ocean's Eleven\"\n",
      " 'Kick-Ass' 'The Da Vinci Code' 'Focus' 'I, Robot' 'Anastasia'\n",
      " 'War of the Worlds' 'The Grudge' 'Freddy vs. Jason' 'Saw II' 'Saw III'\n",
      " 'Super 8' 'The Departed' 'The Matrix Reloaded' '22 Jump Street'\n",
      " 'The Sixth Sense' 'The Lego Movie' 'The Bourne Supremacy' 'The Heat'\n",
      " 'Goosebumps' 'Saw V' 'Paranormal Activity 3' 'The Ring' 'Cast Away'\n",
      " 'The Lone Ranger' 'Everest' 'The Blair Witch Project' 'The Accountant'\n",
      " 'The Great Gatsby' 'A Beautiful Mind' 'Moana' '21 Jump Street'\n",
      " 'Mamma Mia!' 'The Bourne Ultimatum' 'The Hateful Eight' 'Snatch'\n",
      " '50 First Dates' 'A Time to Kill' 'Dark Shadows' 'Warm Bodies'\n",
      " 'Transformers: Revenge of the Fallen' 'Batman Forever' 'Pitch Perfect 2'\n",
      " 'Liar Liar' 'Sully' 'The Nice Guys' 'American Hustle' 'Gravity'\n",
      " 'Austin Powers: The Spy Who Shagged Me' \"There's Something About Mary\"\n",
      " 'American Gangster' 'Wild Hogs' 'Footloose' 'The Dark Tower'\n",
      " 'Crazy Rich Asians' 'Twister' 'Hitch' 'Paranormal Activity 2'\n",
      " 'Ace Ventura: When Nature Calls' 'Mary Poppins Returns'\n",
      " 'Austin Powers in Goldmember' 'Million Dollar Baby' 'Meet the Parents'\n",
      " 'Hairspray' 'Flightplan' 'Girls Trip' 'How to Lose a Guy in 10 Days'\n",
      " 'What Women Want' 'Paranormal Activity 4' 'Knocked Up' 'Shanghai Noon'\n",
      " 'Tales from the Crypt: Demon Knight' 'Hidalgo' 'Krampus'\n",
      " 'Three Billboards Outside Ebbing, Missouri' 'Meet the Fockers' 'Signs'\n",
      " 'The Royal Tenenbaums' 'Apollo 13' 'Wedding Crashers' 'Transformers'\n",
      " 'Talladega Nights: The Ballad of Ricky Bobby' 'The Break-Up'\n",
      " 'The Perfect Storm' 'Transformers: Dark of the Moon' 'The Waterboy'\n",
      " 'Hostiles' 'The Phantom of the Opera' 'Chicago' 'Jerry Maguire'\n",
      " 'Eagle Eye' 'The Quick and the Dead' \"Valentine's Day\"\n",
      " \"The General's Daughter\" 'Burn After Reading' '3:10 to Yuma'\n",
      " 'Being John Malkovich' 'Runaway Bride' 'Dreamgirls' 'Into the Woods'\n",
      " '50/50' 'Think Like a Man Too' 'Executive Decision'\n",
      " 'Katy Perry: Part of Me' 'The Nutty Professor' 'True Grit'\n",
      " 'What Lies Beneath' 'The Recruit' 'Bad Santa' 'Open Range'\n",
      " 'While You Were Sleeping' 'Fahrenheit 9/11' 'Night School'\n",
      " 'My Big Fat Greek Wedding' 'The Homesman' 'Fame' 'Born in China'\n",
      " 'The Men Who Stare at Goats' 'Eight Crazy Nights' 'To Die For']\n"
     ]
    }
   ],
   "source": [
    "#making sure that they only merged the matching movies\n",
    "unique_top_movies = movie_df['Top Movie'].unique()\n",
    "print(\"Unique values in 'Top Movie' column:\", unique_top_movies)\n",
    "\n",
    "# Display unique values in the 'names' column\n",
    "unique_names = movie_df['names'].unique()\n",
    "print(\"Unique values in 'names' column:\", unique_names)"
   ]
  },
  {
   "cell_type": "code",
   "execution_count": 3,
   "id": "afc77ade",
   "metadata": {},
   "outputs": [
    {
     "name": "stdout",
     "output_type": "stream",
     "text": [
      "Index(['names', 'date_x', 'score', 'genre', 'overview', 'crew', 'orig_title',\n",
      "       'status', 'orig_lang', 'budget_x', 'revenue', 'country', 'index',\n",
      "       'Genre', 'Year', 'Movies Released', 'Gross', 'Tickets Sold',\n",
      "       'Inflation-Adjusted Gross', 'Top Movie', 'Top Movie Gross (That Year)',\n",
      "       'Top Movie Inflation-Adjusted Gross (That Year)'],\n",
      "      dtype='object')\n"
     ]
    }
   ],
   "source": [
    "#Seeing what columns have been merged (all of them)\n",
    "print(movie_df.columns)"
   ]
  },
  {
   "cell_type": "code",
   "execution_count": 4,
   "id": "02ea4bcf",
   "metadata": {},
   "outputs": [
    {
     "name": "stdout",
     "output_type": "stream",
     "text": [
      "Index(['score', 'budget_x', 'Genre', 'Year', 'Gross', 'Tickets Sold',\n",
      "       'Inflation-Adjusted Gross', 'Top Movie'],\n",
      "      dtype='object')\n"
     ]
    }
   ],
   "source": [
    "# List of columns to drop\n",
    "columns_to_drop = ['names', 'date_x', 'genre', 'overview', 'crew', 'orig_title',\n",
    "       'status', 'orig_lang', 'revenue', 'country', 'index', 'Movies Released', 'Top Movie Gross (That Year)',\n",
    "       'Top Movie Inflation-Adjusted Gross (That Year)']\n",
    "\n",
    "# Reassign the modified DataFrame to the same variable\n",
    "movie_df = movie_df.drop(columns=columns_to_drop)\n",
    "\n",
    "print(movie_df.columns)"
   ]
  },
  {
   "cell_type": "code",
   "execution_count": 5,
   "id": "eaa58762",
   "metadata": {},
   "outputs": [
    {
     "name": "stdout",
     "output_type": "stream",
     "text": [
      "Index(['Top Movie', 'Year', 'Genre', 'score', 'Tickets Sold', 'budget_x',\n",
      "       'Gross', 'Inflation-Adjusted Gross'],\n",
      "      dtype='object')\n"
     ]
    }
   ],
   "source": [
    "#Reordering the columns\n",
    "desired_column_order = ['Top Movie', 'Year', 'Genre', 'score', 'Tickets Sold', 'budget_x', 'Gross', 'Inflation-Adjusted Gross']\n",
    "\n",
    "# Reorder the columns\n",
    "movie_df = movie_df[desired_column_order]\n",
    "\n",
    "print(movie_df.columns)"
   ]
  },
  {
   "cell_type": "code",
   "execution_count": 6,
   "id": "a25f1126",
   "metadata": {},
   "outputs": [
    {
     "name": "stdout",
     "output_type": "stream",
     "text": [
      "Index(['Top Movie', 'Year', 'Genre', 'score', 'Tickets Sold', 'budget',\n",
      "       'Gross', 'Inflation Adjusted Gross'],\n",
      "      dtype='object')\n"
     ]
    }
   ],
   "source": [
    "#renaming some columns\n",
    "movie_df = movie_df.rename(columns={'budget_x': 'budget', 'Inflation-Adjusted Gross': 'Inflation Adjusted Gross'})\n",
    "\n",
    "print(movie_df.columns)"
   ]
  },
  {
   "cell_type": "code",
   "execution_count": 7,
   "id": "b5f212f9",
   "metadata": {},
   "outputs": [
    {
     "name": "stdout",
     "output_type": "stream",
     "text": [
      "Index(['top_movie', 'year', 'genre', 'score', 'tickets_sold', 'budget',\n",
      "       'gross', 'inflation_adjusted_gross'],\n",
      "      dtype='object')\n"
     ]
    }
   ],
   "source": [
    "#formatting the titles to lowercase and replace spaces with underscores \n",
    "current_columns = movie_df.columns\n",
    "new_columns = [col.lower().replace(' ', '_') for col in current_columns]\n",
    "movie_df.columns = new_columns\n",
    "\n",
    "print(movie_df.columns)"
   ]
  },
  {
   "cell_type": "code",
   "execution_count": 9,
   "id": "89f277ed",
   "metadata": {},
   "outputs": [
    {
     "data": {
      "text/plain": [
       "top_movie                   0\n",
       "year                        0\n",
       "genre                       0\n",
       "score                       0\n",
       "tickets_sold                0\n",
       "budget                      0\n",
       "gross                       0\n",
       "inflation_adjusted_gross    0\n",
       "dtype: int64"
      ]
     },
     "execution_count": 9,
     "metadata": {},
     "output_type": "execute_result"
    }
   ],
   "source": [
    "null_values = movie_df.isnull().sum()\n",
    "null_values"
   ]
  },
  {
   "cell_type": "code",
   "execution_count": 10,
   "id": "a3a383c8",
   "metadata": {},
   "outputs": [],
   "source": [
    "#Converting to CSV to use in SQL\n",
    "\n",
    "movie_df.to_csv('movie_data.csv', index=False)"
   ]
  },
  {
   "cell_type": "code",
   "execution_count": 11,
   "id": "fd5b3ad0",
   "metadata": {},
   "outputs": [
    {
     "name": "stdout",
     "output_type": "stream",
     "text": [
      "<class 'pandas.core.frame.DataFrame'>\n",
      "RangeIndex: 247 entries, 0 to 246\n",
      "Data columns (total 8 columns):\n",
      " #   Column                    Non-Null Count  Dtype  \n",
      "---  ------                    --------------  -----  \n",
      " 0   top_movie                 247 non-null    object \n",
      " 1   year                      247 non-null    int64  \n",
      " 2   genre                     247 non-null    object \n",
      " 3   score                     247 non-null    float64\n",
      " 4   tickets_sold              247 non-null    int64  \n",
      " 5   budget                    247 non-null    float64\n",
      " 6   gross                     247 non-null    int64  \n",
      " 7   inflation_adjusted_gross  247 non-null    int64  \n",
      "dtypes: float64(2), int64(4), object(2)\n",
      "memory usage: 15.6+ KB\n"
     ]
    }
   ],
   "source": [
    "movie_df.info()"
   ]
  }
 ],
 "metadata": {
  "kernelspec": {
   "display_name": "Python 3 (ipykernel)",
   "language": "python",
   "name": "python3"
  },
  "language_info": {
   "codemirror_mode": {
    "name": "ipython",
    "version": 3
   },
   "file_extension": ".py",
   "mimetype": "text/x-python",
   "name": "python",
   "nbconvert_exporter": "python",
   "pygments_lexer": "ipython3",
   "version": "3.11.5"
  }
 },
 "nbformat": 4,
 "nbformat_minor": 5
}
